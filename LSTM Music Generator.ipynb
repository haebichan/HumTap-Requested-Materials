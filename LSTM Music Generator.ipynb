{
 "cells": [
  {
   "cell_type": "code",
   "execution_count": 1,
   "metadata": {},
   "outputs": [
    {
     "name": "stderr",
     "output_type": "stream",
     "text": [
      "/Users/Haebichan/anaconda3/lib/python3.6/site-packages/h5py/__init__.py:36: FutureWarning: Conversion of the second argument of issubdtype from `float` to `np.floating` is deprecated. In future, it will be treated as `np.float64 == np.dtype(float).type`.\n",
      "  from ._conv import register_converters as _register_converters\n",
      "Using TensorFlow backend.\n"
     ]
    }
   ],
   "source": [
    "# import relevant modules\n",
    "\n",
    "import pandas as pd\n",
    "import numpy as np\n",
    "from keras.layers import LSTM, Dense, Activation, Dropout\n",
    "from keras.models import Sequential\n",
    "from keras.utils import np_utils\n",
    "from music21 import converter, instrument, note,chord, stream\n",
    "from IPython.display import SVG\n",
    "from keras.utils.vis_utils import model_to_dot, plot_model"
   ]
  },
  {
   "cell_type": "code",
   "execution_count": 2,
   "metadata": {},
   "outputs": [],
   "source": [
    "midi_list = ['All Too Well.mid','All the Small Things.mid', 'Beauty and the Beat.mid','Breakaway.mid','Cant Feel My Face.mid','Dont Matter.mid','Dont Stop Believing.mid','Falling Slowly.mid', 'Hallelujah.mid','Halo.mid','Im Yours.mid','Imagine.mid','Let It Be.mid','Purpose.mid','Somewhere Out There.mid','Stay With Me.mid','Stronger.mid','Sunday Morning.mid','We Belong Together.mid','When I was Your Man.mid']"
   ]
  },
  {
   "cell_type": "code",
   "execution_count": 3,
   "metadata": {},
   "outputs": [
    {
     "ename": "ConverterException",
     "evalue": "File not found or no such format found for: midi_songs/All Too Well.mid",
     "output_type": "error",
     "traceback": [
      "\u001b[0;31m---------------------------------------------------------------------------\u001b[0m",
      "\u001b[0;31mConverterException\u001b[0m                        Traceback (most recent call last)",
      "\u001b[0;32m<ipython-input-3-ebf453bf2667>\u001b[0m in \u001b[0;36m<module>\u001b[0;34m()\u001b[0m\n\u001b[1;32m      5\u001b[0m \u001b[0;34m\u001b[0m\u001b[0m\n\u001b[1;32m      6\u001b[0m \u001b[0;32mfor\u001b[0m \u001b[0msong\u001b[0m \u001b[0;32min\u001b[0m \u001b[0mmidi_list\u001b[0m\u001b[0;34m:\u001b[0m\u001b[0;34m\u001b[0m\u001b[0m\n\u001b[0;32m----> 7\u001b[0;31m     \u001b[0mmidi\u001b[0m \u001b[0;34m=\u001b[0m \u001b[0mconverter\u001b[0m\u001b[0;34m.\u001b[0m\u001b[0mparse\u001b[0m\u001b[0;34m(\u001b[0m\u001b[0;34m'midi_songs/'\u001b[0m \u001b[0;34m+\u001b[0m \u001b[0msong\u001b[0m\u001b[0;34m)\u001b[0m\u001b[0;34m\u001b[0m\u001b[0m\n\u001b[0m\u001b[1;32m      8\u001b[0m     \u001b[0;32mfor\u001b[0m \u001b[0mi\u001b[0m \u001b[0;32min\u001b[0m \u001b[0mmidi\u001b[0m\u001b[0;34m.\u001b[0m\u001b[0mparts\u001b[0m\u001b[0;34m:\u001b[0m\u001b[0;34m\u001b[0m\u001b[0m\n\u001b[1;32m      9\u001b[0m         \u001b[0mi\u001b[0m\u001b[0;34m.\u001b[0m\u001b[0minsert\u001b[0m\u001b[0;34m(\u001b[0m\u001b[0;36m0\u001b[0m\u001b[0;34m,\u001b[0m \u001b[0minstrument\u001b[0m\u001b[0;34m.\u001b[0m\u001b[0mPiano\u001b[0m\u001b[0;34m(\u001b[0m\u001b[0;34m)\u001b[0m\u001b[0;34m)\u001b[0m\u001b[0;34m\u001b[0m\u001b[0m\n",
      "\u001b[0;32m~/anaconda3/lib/python3.6/site-packages/music21/converter/__init__.py\u001b[0m in \u001b[0;36mparse\u001b[0;34m(value, *args, **keywords)\u001b[0m\n\u001b[1;32m   1135\u001b[0m         \u001b[0;32mraise\u001b[0m \u001b[0mFileNotFoundError\u001b[0m\u001b[0;34m(\u001b[0m\u001b[0;34m'Cannot find file in {:s}'\u001b[0m\u001b[0;34m.\u001b[0m\u001b[0mformat\u001b[0m\u001b[0;34m(\u001b[0m\u001b[0mstr\u001b[0m\u001b[0;34m(\u001b[0m\u001b[0mvalue\u001b[0m\u001b[0;34m)\u001b[0m\u001b[0;34m)\u001b[0m\u001b[0;34m)\u001b[0m\u001b[0;34m\u001b[0m\u001b[0m\n\u001b[1;32m   1136\u001b[0m     \u001b[0;32melse\u001b[0m\u001b[0;34m:\u001b[0m\u001b[0;34m\u001b[0m\u001b[0m\n\u001b[0;32m-> 1137\u001b[0;31m         \u001b[0;32mreturn\u001b[0m \u001b[0mparseData\u001b[0m\u001b[0;34m(\u001b[0m\u001b[0mvalue\u001b[0m\u001b[0;34m,\u001b[0m \u001b[0mnumber\u001b[0m\u001b[0;34m=\u001b[0m\u001b[0mnumber\u001b[0m\u001b[0;34m,\u001b[0m \u001b[0mformat\u001b[0m\u001b[0;34m=\u001b[0m\u001b[0mm21Format\u001b[0m\u001b[0;34m,\u001b[0m \u001b[0;34m**\u001b[0m\u001b[0mkeywords\u001b[0m\u001b[0;34m)\u001b[0m\u001b[0;34m\u001b[0m\u001b[0m\n\u001b[0m\u001b[1;32m   1138\u001b[0m \u001b[0;34m\u001b[0m\u001b[0m\n\u001b[1;32m   1139\u001b[0m \u001b[0;34m\u001b[0m\u001b[0m\n",
      "\u001b[0;32m~/anaconda3/lib/python3.6/site-packages/music21/converter/__init__.py\u001b[0m in \u001b[0;36mparseData\u001b[0;34m(dataStr, number, format, **keywords)\u001b[0m\n\u001b[1;32m   1011\u001b[0m     '''\n\u001b[1;32m   1012\u001b[0m     \u001b[0mv\u001b[0m \u001b[0;34m=\u001b[0m \u001b[0mConverter\u001b[0m\u001b[0;34m(\u001b[0m\u001b[0;34m)\u001b[0m\u001b[0;34m\u001b[0m\u001b[0m\n\u001b[0;32m-> 1013\u001b[0;31m     \u001b[0mv\u001b[0m\u001b[0;34m.\u001b[0m\u001b[0mparseData\u001b[0m\u001b[0;34m(\u001b[0m\u001b[0mdataStr\u001b[0m\u001b[0;34m,\u001b[0m \u001b[0mnumber\u001b[0m\u001b[0;34m=\u001b[0m\u001b[0mnumber\u001b[0m\u001b[0;34m,\u001b[0m \u001b[0mformat\u001b[0m\u001b[0;34m=\u001b[0m\u001b[0mformat\u001b[0m\u001b[0;34m,\u001b[0m \u001b[0;34m**\u001b[0m\u001b[0mkeywords\u001b[0m\u001b[0;34m)\u001b[0m\u001b[0;34m\u001b[0m\u001b[0m\n\u001b[0m\u001b[1;32m   1014\u001b[0m     \u001b[0;32mreturn\u001b[0m \u001b[0mv\u001b[0m\u001b[0;34m.\u001b[0m\u001b[0mstream\u001b[0m\u001b[0;34m\u001b[0m\u001b[0m\n\u001b[1;32m   1015\u001b[0m \u001b[0;34m\u001b[0m\u001b[0m\n",
      "\u001b[0;32m~/anaconda3/lib/python3.6/site-packages/music21/converter/__init__.py\u001b[0m in \u001b[0;36mparseData\u001b[0;34m(self, dataStr, number, format, forceSource, **keywords)\u001b[0m\n\u001b[1;32m    604\u001b[0m             \u001b[0;32melse\u001b[0m\u001b[0;34m:\u001b[0m\u001b[0;34m\u001b[0m\u001b[0m\n\u001b[1;32m    605\u001b[0m                 raise ConverterException('File not found or no such format found for: %s' %\n\u001b[0;32m--> 606\u001b[0;31m                                          dataStrMakeStr)\n\u001b[0m\u001b[1;32m    607\u001b[0m \u001b[0;34m\u001b[0m\u001b[0m\n\u001b[1;32m    608\u001b[0m         \u001b[0mself\u001b[0m\u001b[0;34m.\u001b[0m\u001b[0msetSubconverterFromFormat\u001b[0m\u001b[0;34m(\u001b[0m\u001b[0museFormat\u001b[0m\u001b[0;34m)\u001b[0m\u001b[0;34m\u001b[0m\u001b[0m\n",
      "\u001b[0;31mConverterException\u001b[0m: File not found or no such format found for: midi_songs/All Too Well.mid"
     ]
    }
   ],
   "source": [
    "# Store all midi files and their parts into one list, respectively\n",
    "\n",
    "all_midis = []\n",
    "all_parts = []\n",
    "\n",
    "for song in midi_list:\n",
    "    midi = converter.parse('midi_songs/' + song)\n",
    "    for i in midi.parts:\n",
    "        i.insert(0, instrument.Piano())\n",
    "    parts = instrument.partitionByInstrument(midi)\n",
    "\n",
    "    all_midis.append(midi)\n",
    "    all_parts.append(parts)\n"
   ]
  },
  {
   "cell_type": "code",
   "execution_count": null,
   "metadata": {},
   "outputs": [],
   "source": []
  },
  {
   "cell_type": "code",
   "execution_count": null,
   "metadata": {},
   "outputs": [],
   "source": [
    "# Store all notes, their offset, and their durations\n",
    "\n",
    "notes = []\n",
    "notes_offset = []\n",
    "durations = []\n",
    "\n",
    "for parts in all_midis:\n",
    "    for i in parts.recurse():\n",
    "        if isinstance(i, note.Note):\n",
    "            notes.append(str(i.pitch))\n",
    "            notes_offset.append(float(i.offset))\n",
    "            durations.append(float(i.duration.quarterLength))\n",
    "\n",
    "        elif isinstance(i, chord.Chord):\n",
    "            notes_offset.append(float(i.offset))\n",
    "            durations.append(float(i.duration.quarterLength))\n",
    "            \n",
    "            i = str(i).replace('>', '')\n",
    "            chords = '|'.join(i.split()[1:])\n",
    "            notes.append(chords)\n",
    "            "
   ]
  },
  {
   "cell_type": "code",
   "execution_count": null,
   "metadata": {},
   "outputs": [],
   "source": []
  },
  {
   "cell_type": "code",
   "execution_count": null,
   "metadata": {},
   "outputs": [],
   "source": [
    "# Set the sequence length to 100 notes\n",
    "\n",
    "sequence_length = 100\n",
    "allnotes = sorted(set(i for i in notes))"
   ]
  },
  {
   "cell_type": "code",
   "execution_count": null,
   "metadata": {},
   "outputs": [],
   "source": [
    "# Create a note to index dictionary like word to index dictionary in text generator\n",
    "\n",
    "note_index_dic = dict((note, index) for index, note in enumerate(allnotes)) "
   ]
  },
  {
   "cell_type": "code",
   "execution_count": null,
   "metadata": {},
   "outputs": [],
   "source": [
    "# Store Prepare the notes input by slicing and concatenating notes with the sequence length of 100 \n",
    "\n",
    "notes_input = []\n",
    "notes_output = []\n",
    "n_words = len(set(notes))\n",
    "\n",
    "for i in range(0, len(notes) - sequence_length, 1):\n",
    "    sequence_in = notes[i: i + sequence_length]\n",
    "    sequence_out = notes[i + sequence_length]\n",
    "    \n",
    "    notes_input.append([note_index_dic[note] for note in sequence_in])\n",
    "    notes_output.append(note_index_dic[sequence_out])"
   ]
  },
  {
   "cell_type": "code",
   "execution_count": null,
   "metadata": {},
   "outputs": [],
   "source": [
    "# Turn the sliced notes into an array form for processing\n",
    "\n",
    "notes_input = np.array(notes_input).reshape(len(notes_input),  sequence_length, 1)\n",
    "notes_output = np_utils.to_categorical(notes_output)"
   ]
  },
  {
   "cell_type": "code",
   "execution_count": null,
   "metadata": {},
   "outputs": [],
   "source": [
    "notes_input = notes_input / float(n_words)"
   ]
  },
  {
   "cell_type": "code",
   "execution_count": null,
   "metadata": {},
   "outputs": [],
   "source": [
    "# Create an LSTM model\n",
    "\n",
    "model = Sequential()\n",
    "model.add(LSTM(\n",
    "    512,\n",
    "    input_shape=(notes_input.shape[1], notes_input.shape[2]),\n",
    "    return_sequences=True\n",
    "))\n",
    "model.add(Dropout(0.3))\n",
    "model.add(LSTM(512, return_sequences=True))\n",
    "model.add(Dropout(0.3))\n",
    "model.add(LSTM(512))\n",
    "model.add(Dense(256))\n",
    "model.add(Dropout(0.3))\n",
    "model.add(Dense(n_words))\n",
    "model.add(Activation('softmax'))\n",
    "model.compile(loss='categorical_crossentropy', optimizer='rmsprop')"
   ]
  },
  {
   "cell_type": "code",
   "execution_count": null,
   "metadata": {},
   "outputs": [],
   "source": [
    "# visualizing the model\n",
    "\n",
    "SVG(model_to_dot(model).create(prog = 'dot', format = 'svg'))"
   ]
  },
  {
   "cell_type": "code",
   "execution_count": null,
   "metadata": {},
   "outputs": [],
   "source": []
  },
  {
   "cell_type": "code",
   "execution_count": 8,
   "metadata": {},
   "outputs": [],
   "source": [
    "model.fit(notes_input, notes_output, epochs = 20, batch_size = 64)\n"
   ]
  },
  {
   "cell_type": "code",
   "execution_count": 33,
   "metadata": {},
   "outputs": [],
   "source": [
    "start = np.random.randint(0, len(notes_input))"
   ]
  },
  {
   "cell_type": "code",
   "execution_count": 34,
   "metadata": {},
   "outputs": [],
   "source": [
    "# Recreate the music using the dictionary \n",
    "\n",
    "int_to_note = dict((index, note) for index, note in enumerate(allnotes))"
   ]
  },
  {
   "cell_type": "code",
   "execution_count": 35,
   "metadata": {},
   "outputs": [],
   "source": [
    "\n",
    "start_music = notes_input[start]\n",
    "prediction_output = []"
   ]
  },
  {
   "cell_type": "code",
   "execution_count": 37,
   "metadata": {},
   "outputs": [
    {
     "data": {
      "text/plain": [
       "array([[0.0546875],\n",
       "       [0.0546875],\n",
       "       [0.5859375],\n",
       "       [0.0546875],\n",
       "       [0.0546875],\n",
       "       [0.359375 ],\n",
       "       [0.1953125],\n",
       "       [0.0546875],\n",
       "       [0.1953125],\n",
       "       [0.359375 ],\n",
       "       [0.359375 ],\n",
       "       [0.0546875],\n",
       "       [0.1953125],\n",
       "       [0.359375 ],\n",
       "       [0.359375 ],\n",
       "       [0.46875  ],\n",
       "       [0.46875  ],\n",
       "       [0.3984375],\n",
       "       [0.25     ],\n",
       "       [0.5390625],\n",
       "       [0.703125 ],\n",
       "       [0.703125 ],\n",
       "       [0.25     ],\n",
       "       [0.5390625],\n",
       "       [0.703125 ],\n",
       "       [0.703125 ],\n",
       "       [0.2890625],\n",
       "       [0.2890625],\n",
       "       [0.7109375],\n",
       "       [0.7109375],\n",
       "       [0.2890625],\n",
       "       [0.2890625],\n",
       "       [0.7109375],\n",
       "       [0.7109375],\n",
       "       [0.2890625],\n",
       "       [0.2890625],\n",
       "       [0.7109375],\n",
       "       [0.7109375],\n",
       "       [0.2890625],\n",
       "       [0.2890625],\n",
       "       [0.7109375],\n",
       "       [0.7109375],\n",
       "       [0.0078125],\n",
       "       [0.0078125],\n",
       "       [0.0078125],\n",
       "       [0.0078125],\n",
       "       [0.8203125],\n",
       "       [0.8203125],\n",
       "       [0.8203125],\n",
       "       [0.7109375],\n",
       "       [0.8203125],\n",
       "       [0.2890625],\n",
       "       [0.2890625],\n",
       "       [0.7109375],\n",
       "       [0.8203125],\n",
       "       [0.2890625],\n",
       "       [0.2890625],\n",
       "       [0.7109375],\n",
       "       [0.8203125],\n",
       "       [0.2890625],\n",
       "       [0.2890625],\n",
       "       [0.7109375],\n",
       "       [0.8203125],\n",
       "       [0.2890625],\n",
       "       [0.2890625],\n",
       "       [0.3203125],\n",
       "       [0.875    ],\n",
       "       [0.0546875],\n",
       "       [0.5859375],\n",
       "       [0.171875 ],\n",
       "       [0.875    ],\n",
       "       [0.4609375],\n",
       "       [0.46875  ],\n",
       "       [0.0859375],\n",
       "       [0.390625 ],\n",
       "       [0.390625 ],\n",
       "       [0.2109375],\n",
       "       [0.6015625],\n",
       "       [0.359375 ],\n",
       "       [0.7734375],\n",
       "       [0.8984375],\n",
       "       [0.640625 ],\n",
       "       [0.90625  ],\n",
       "       [0.640625 ],\n",
       "       [0.640625 ],\n",
       "       [0.46875  ],\n",
       "       [0.640625 ],\n",
       "       [0.46875  ],\n",
       "       [0.78125  ],\n",
       "       [0.359375 ],\n",
       "       [0.875    ],\n",
       "       [0.3203125],\n",
       "       [0.875    ],\n",
       "       [0.59375  ],\n",
       "       [0.359375 ],\n",
       "       [0.875    ],\n",
       "       [0.875    ],\n",
       "       [0.4609375],\n",
       "       [0.46875  ],\n",
       "       [0.078125 ]])"
      ]
     },
     "execution_count": 37,
     "metadata": {},
     "output_type": "execute_result"
    }
   ],
   "source": [
    "start_music"
   ]
  },
  {
   "cell_type": "code",
   "execution_count": 38,
   "metadata": {},
   "outputs": [],
   "source": [
    "# Store the note predictions\n",
    "\n",
    "prediction_output = []\n",
    "\n",
    "for note_index in range(4):\n",
    "    prediction_input = np.reshape(start_music, (1, len(start_music), 1))\n",
    "    prediction_input = prediction_input / float(n_words)\n",
    "    prediction = model.predict(prediction_input, verbose = 0)\n",
    "\n",
    "    index = np.argmax(prediction)\n",
    "    result = int_to_note[index]\n",
    "    \n",
    "    prediction_output.append(result)\n",
    "    \n",
    "    start_music = list(start_music)\n",
    "    start_music.append(index)\n",
    "    start_music = start_music[1: len(start_music)]\n",
    "    \n",
    "\n",
    "\n",
    "    \n",
    "    "
   ]
  },
  {
   "cell_type": "code",
   "execution_count": 4,
   "metadata": {},
   "outputs": [],
   "source": [
    "# prediction_output"
   ]
  },
  {
   "cell_type": "code",
   "execution_count": null,
   "metadata": {},
   "outputs": [],
   "source": []
  },
  {
   "cell_type": "code",
   "execution_count": 6,
   "metadata": {},
   "outputs": [],
   "source": [
    "# Add offset, instrument, stream\n",
    "\n",
    "offset= 0\n",
    "output_notes = []\n",
    "for pattern in prediction_output:\n",
    "    new_note = note.Note(pattern)\n",
    "    new_note.offset = offset\n",
    "    new_note.storedInstrument = instrument.Piano()\n",
    "    output_notes.append(new_note)\n",
    "    offset += .5\n",
    "    \n",
    "midi_stream = stream.Stream(output_notes)"
   ]
  },
  {
   "cell_type": "code",
   "execution_count": 7,
   "metadata": {},
   "outputs": [],
   "source": [
    "for i in midi_stream.recurse():\n",
    "    print(i, i.offset)"
   ]
  },
  {
   "cell_type": "code",
   "execution_count": 37,
   "metadata": {},
   "outputs": [
    {
     "data": {
      "text/plain": [
       "'lstm.midi'"
      ]
     },
     "execution_count": 37,
     "metadata": {},
     "output_type": "execute_result"
    }
   ],
   "source": [
    "# Store the music \n",
    "\n",
    "midi_stream.write('midi', fp= 'lstm.midi')"
   ]
  },
  {
   "cell_type": "code",
   "execution_count": null,
   "metadata": {},
   "outputs": [],
   "source": []
  }
 ],
 "metadata": {
  "kernelspec": {
   "display_name": "Python 3",
   "language": "python",
   "name": "python3"
  },
  "language_info": {
   "codemirror_mode": {
    "name": "ipython",
    "version": 3
   },
   "file_extension": ".py",
   "mimetype": "text/x-python",
   "name": "python",
   "nbconvert_exporter": "python",
   "pygments_lexer": "ipython3",
   "version": "3.6.5"
  }
 },
 "nbformat": 4,
 "nbformat_minor": 2
}
